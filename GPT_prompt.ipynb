{
 "cells": [
  {
   "cell_type": "code",
   "execution_count": null,
   "id": "031fa92f",
   "metadata": {},
   "outputs": [],
   "source": [
    "zeroshot_scope = \"\"\"Predict whether the user would prefer a response with depth, breadth, or if both are equally preferable (neutral) for the following query. Output the result in the following JSON format: {result: 0 for depth, 1 for neutral, 2 for breadth}.\n",
    "\n",
    "Query: \"\"\"\n",
    "\n",
    "fewshot_scope = \"\"\"Based on the examples below, predict whether the user would prefer a response with depth, breadth, or if both are equally preferable (neutral) for the following query. Output the result in the following JSON format: {result: 0 for depth, 1 for neutral, 2 for breadth}.\n",
    "\n",
    "Example 1: Explain what the pbs special on native americans reveals about their construction of cities - 0 (Depth)\n",
    "Example 2: What is the water contact angle on platinum? - 0 (Depth)\n",
    "Example 3: Is philippines known to have many trees in the world? - 2 (Breadth)\n",
    "Example 4: What are the different types of consent in healthcare? - 2 (Breadth)\n",
    "Example 5: What were the living and working conditions described in the excerpt the jungle - 1 (Neutral)\n",
    "Example 6: What is the link between gender inequality and violence against women? - 1 (Neutral)\n",
    "\n",
    "Query: \"\"\""
   ]
  },
  {
   "cell_type": "code",
   "execution_count": null,
   "id": "41cf329c",
   "metadata": {},
   "outputs": [],
   "source": [
    "zeroshot_pres = \"\"\"Predict whether the user would prefer a response in a format of structured paragraphs, bullet-points, short direct answers, or if there is no clear preference (neutral) for the following query. Output the result in the following JSON format: {result: 0 for paragraph, 1 for bullet-point, 2 for short answer, 3 for neutral}.\n",
    "\n",
    "Query: \"\"\"\n",
    "\n",
    "fewshot_pres = \"\"\"Based on the examples below, predict whether the user would prefer a response in a format of structured paragraphs, bullet-points, short direct answers, or if there is no clear preference (neutral) for the following query. Output the result in the following JSON format: {result: 0 for paragraph, 1 for bullet-point, 2 for short answer, 3 for neutral}.\n",
    "\n",
    "Example 1: You know the poem “the cry of the dreamer”? what’s the theme for that poem? - 0 (Paragraph)\n",
    "Example 2: Why did many african americans participate in the great migration? - 0 (Paragraph)\n",
    "Example 3: What is a good esop communications committee name - 1 (Bullet-point)\n",
    "Example 4: Best thriller novels involving the internet - 1 (Bullet-point)\n",
    "Example 5: What is junior actual name in the diary of a part time indian? - 2 (Short Answer)\n",
    "Example 6: The fibers of a ________ muscle are arranged much like a feather. - 2 (Short Answer)\n",
    "Example 7: Find literature related to the psychology of dating - 3 (Neutral)\n",
    "Example 8: Case study on air pollution - 3 (Neutral)\n",
    "\n",
    "Query: \"\"\""
   ]
  },
  {
   "cell_type": "code",
   "execution_count": null,
   "id": "5db160ee",
   "metadata": {},
   "outputs": [],
   "source": [
    "zeroshot_lang = \"\"\"Predict whether the user would prefer a response in a complex language, simple language, or if there is no clear preference (neutral) for the following query. Output the result in the following JSON format: {result: 0 for complex language, 1 for neutral, 2 for simple language}.\n",
    "\n",
    "Query: \"\"\"\n",
    "\n",
    "fewshot_lang = \"\"\"Based on the examples below, predict whether the user would prefer a response in a complex language, simple language, or if there is no clear preference (neutral) for the following query. Output the result in the following JSON format: {result: 0 for complex language, 1 for neutral, 2 for simple language}.\n",
    "\n",
    "Example 1: How to know how many amino acids is the full sequence in ncbi for proteins - 0 (Complex)\n",
    "Example 2: How to make a best procurement consulting company - 0 (Complex)\n",
    "Example 3: What are some of the things the thriller genre in film consistently doesn’t show? - 1 (Neutral)\n",
    "Example 4: Has any third-party candidate received electoral college votes in the 2024 u.s. election? - 1 (Neutral)\n",
    "Example 5: Social media and mental health of gen z - 2 (Simple)\n",
    "Example 6: How is twitter connected to free speech absolutism? - 2 (Simple)\n",
    "\n",
    "Query: \"\"\""
   ]
  },
  {
   "cell_type": "code",
   "execution_count": null,
   "id": "f793c8e8",
   "metadata": {},
   "outputs": [],
   "source": [
    "zeroshot_tone = \"\"\"Predict whether the user would prefer a response in a formal tone, informal tone, or if there is no clear preference (neutral) for the following query. Output the result in the following JSON format: {result: 0 for formal tone, 1 for neutral, 2 for informal tone}.\n",
    "\n",
    "Query: \"\"\"\n",
    "\n",
    "fewshot_tone = \"\"\"Based on the examples below, predict whether the user would prefer a response in a formal tone, informal tone, or if there is no clear preference (neutral) for the following query. Output the result in the following JSON format: {result: 0 for formal tone, 1 for neutral, 2 for informal tone}.\n",
    "\n",
    "Example 1: Write and sop on the effectiveness of community based programs in reducing juvenile delinquency in urdaneta city - 0 (Formal)\n",
    "Example 2: Lincoln: a photobiography: what does freedman say lincoln's toughest decision as president was? - 0 (Formal)\n",
    "Example 3: Techniques used in child and adolescent therapy based on erik erikson’s theory - 1 (Neutral)\n",
    "Example 4: What exact year were african americans (men and women) finally given the right to vote in the united states - 1 (Neutral)\n",
    "Example 5: The fibers of a ________ muscle are arranged much like a feather. - 2 (Informal)\n",
    "Example 6: Donald trump mentioned that tarrifs policy was used by some former president, who was that president? - 2 (Informal)\n",
    "\n",
    "Query: \"\"\""
   ]
  },
  {
   "cell_type": "code",
   "execution_count": null,
   "id": "43a45497",
   "metadata": {},
   "outputs": [],
   "source": [
    "zeroshot_role = \"\"\"Predict whether the user would prefer a response that summarizes retrieved sources, provides unique interpretations generated by the LLM, or shows no clear preference (neutral) for the following query. Output the result in the following JSON format: {result: 0 for summary, 1 for neutral, 2 for analysis}.\n",
    "\n",
    "Query: \"\"\"\n",
    "\n",
    "fewshot_role = \"\"\"Based on the examples below, predict whether the user would prefer a response that summarizes retrieved sources, provides unique interpretations generated by the LLM, or shows no clear preference (neutral) for the following query. Output the result in the following JSON format: {result: 0 for summary, 1 for neutral, 2 for analysis}.\n",
    "\n",
    "Example 1: Find history that happened in 2022 at merriweather arts and culture - 0 (Summary)\n",
    "Example 2: Who were the people involved in the second bank of the united states veto - 0 (Summary)\n",
    "Example 3: What was the significance of the boston customs office during the boston tea party? - 1 (Neutral)\n",
    "Example 4: What exact year were african americans (men and women) finally given the right to vote in the united states - 1 (Neutral)\n",
    "Example 5: What are some agricultural or genetic methods to improve drought resistance in crops through stomatal control? - 2 (Analysis)\n",
    "Example 6: What does the lotus plant symbolize in odysseus? - 2 (Analysis)\n",
    "\n",
    "Query: \"\"\""
   ]
  },
  {
   "cell_type": "code",
   "execution_count": null,
   "id": "047f6f6f",
   "metadata": {},
   "outputs": [],
   "source": [
    "zeroshot_recency = \"\"\"Predict whether the user would prefer a response that cites recent sources, old sources, or if there is no clear preference (neutral) for the following query. Output the result in the following JSON format: {result: 0 for recent source, 1 for neutral, 2 for old source}.\n",
    "\n",
    "Query: \"\"\"\n",
    "\n",
    "fewshot_recency = \"\"\"Based on the examples below, predict whether the user would prefer a response that cites recent sources, old sources, or if there is no clear preference (neutral) for the following query. Output the result in the following JSON format: {result: 0 for recent source, 1 for neutral, 2 for old source}.\n",
    "\n",
    "Example 1: Find history that happened in 2022 at merriweather arts and culture - 0 (Recent source)\n",
    "Example 2: Do you think the u.s. should not sgnificatnly reduce foreign aid? - 0 (Recent source)\n",
    "Example 3: What are more concepts like \"\"vishkanyas\"\" in ancient or medieval india? - 1 (Neutral)\n",
    "Example 4: Can you find primary sources detailing the events leading up to wwi? - 1 (Neutral)\n",
    "Example 5: What was the basic pay scale of level 10 central government employees in 6th and 7th pay commission - 2 (Old source)\n",
    "Example 6: Find research paper on the theory of planned behavior - 2 (Old source)\n",
    "\n",
    "Query: \"\"\""
   ]
  },
  {
   "cell_type": "code",
   "execution_count": null,
   "id": "2fe530f6",
   "metadata": {},
   "outputs": [],
   "source": [
    "zeroshot_type = \"\"\"Predict whether the user would prefer a response that cites scholarly sources, popular and non-scholarly sources, or if there is no clear preference (neutral) for the following query. Output the result in the following JSON format: {result: 0 for scholarly source, 1 for neutral, 2 for popular source}.\n",
    "\n",
    "Query: \"\"\"\n",
    "\n",
    "fewshot_type = \"\"\"Based on the examples below, predict whether the user would prefer a response that cites scholarly sources, popular and non-scholarly sources, or if there is no clear preference (neutral) for the following query. Output the result in the following JSON format: {result: 0 for scholarly source, 1 for neutral, 2 for popular source}.\n",
    "\n",
    "Example 1: What was the significance of the boston customs office during the boston tea party? - 0 (Scholarly source)\n",
    "Example 2: Enumerate and describe each of the five types of ionizing radiations - 0 (Scholarly source)\n",
    "Example 3: Has any third-party candidate received electoral college votes in the 2024 u.s. election? - 1 (Neutral)\n",
    "Example 4: What obstacles did tulsa residents face during the massacre and in its aftermath? - 1 (Neutral)\n",
    "Example 5: Why will donald trump win the 2024 election? - 2 (Popular source)\n",
    "Example 6: Find ideas for science project (species survival – more than just sustainability) - 2 (Popular source)\n",
    "\n",
    "Query: \"\"\""
   ]
  }
 ],
 "metadata": {
  "kernelspec": {
   "display_name": "Python 3 (ipykernel)",
   "language": "python",
   "name": "python3"
  },
  "language_info": {
   "codemirror_mode": {
    "name": "ipython",
    "version": 3
   },
   "file_extension": ".py",
   "mimetype": "text/x-python",
   "name": "python",
   "nbconvert_exporter": "python",
   "pygments_lexer": "ipython3",
   "version": "3.7.16"
  }
 },
 "nbformat": 4,
 "nbformat_minor": 5
}
